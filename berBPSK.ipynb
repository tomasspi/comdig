{
  "nbformat": 4,
  "nbformat_minor": 0,
  "metadata": {
    "colab": {
      "name": "berBPSK.ipynb",
      "provenance": []
    },
    "kernelspec": {
      "name": "python3",
      "display_name": "Python 3"
    }
  },
  "cells": [
    {
      "cell_type": "code",
      "metadata": {
        "id": "eTYGMidJamVQ",
        "colab_type": "code",
        "colab": {}
      },
      "source": [
        "import numpy as np\n",
        "import matplotlib.pyplot as plt\n",
        "#### Configuración ####\n",
        "snr_dB = np.array([1,2,3,4,5,6,7,8,9,10])\n",
        "nb_simbolos = 10000000\n",
        "#######################\n",
        "hipotesis = np.random.randint(0,1,nb_simbolos)\n",
        "codigos = [1 for i in range(len(hipotesis)) if hipotesis[i]==0 ] # señal +1,-1\n",
        "snr = pow(10,snr_dB/10.) # Potencia en veces\n",
        "noise_variance = 1/snr\n",
        "  "
      ],
      "execution_count": 0,
      "outputs": []
    },
    {
      "cell_type": "code",
      "metadata": {
        "id": "L59HmaccfJ06",
        "colab_type": "code",
        "outputId": "0eae9d3a-c5ea-45bb-9036-dbdb31314621",
        "colab": {
          "base_uri": "https://localhost:8080/",
          "height": 52
        }
      },
      "source": [
        "ber = np.array([])\n",
        "for variance in noise_variance:\n",
        "  noise = np.sqrt(variance) * np.random.randn(nb_simbolos)\n",
        "  signal_received = codigos + noise\n",
        "  code_detected =[1 if signal_received[i]>0 else -1 for i in range(len(signal_received)) ]\n",
        "  ber = np.append(ber, sum(abs(np.array(code_detected) - codigos)/2)/nb_simbolos)\n",
        "print(ber)"
      ],
      "execution_count": 2,
      "outputs": [
        {
          "output_type": "stream",
          "text": [
            "[0.1310016 0.1040167 0.0789251 0.0565245 0.0375991 0.0229309 0.0125905\n",
            " 0.0060209 0.0024129 0.0007789]\n"
          ],
          "name": "stdout"
        }
      ]
    },
    {
      "cell_type": "code",
      "metadata": {
        "id": "SE9Wa-u9GeTA",
        "colab_type": "code",
        "outputId": "b933e888-2bc6-4a17-f1fe-1adeccb136b2",
        "colab": {
          "base_uri": "https://localhost:8080/",
          "height": 282
        }
      },
      "source": [
        "plt.semilogy(snr_dB,ber)"
      ],
      "execution_count": 3,
      "outputs": [
        {
          "output_type": "execute_result",
          "data": {
            "text/plain": [
              "[<matplotlib.lines.Line2D at 0x7f8c87581860>]"
            ]
          },
          "metadata": {
            "tags": []
          },
          "execution_count": 3
        },
        {
          "output_type": "display_data",
          "data": {
            "image/png": "[encoded data removed]",
            "text/plain": [
              "<Figure size 432x288 with 1 Axes>"
            ]
          },
          "metadata": {
            "tags": [],
            "needs_background": "light"
          }
        }
      ]
    },
    {
      "cell_type": "markdown",
      "metadata": {
        "id": "4W4fC26XU-As",
        "colab_type": "text"
      },
      "source": [
        "De la sección 2.4.1 sabemos que la probabilidad de error para hipótesis binaria equiprobable está dada por\n",
        "$$Pe = Q(\\frac{d}{2\\sigma})$$\n",
        "La función Q podemos calcularla o aproximarla de varias formas. Revisar la sección 2.3 para recordar las distintas cotas que pueden emplearse.\n",
        "\n",
        "Para el siguiente cálculo, yo empleará la función acumulativa y la propiedad de la probabilidad"
      ]
    },
    {
      "cell_type": "code",
      "metadata": {
        "id": "UJPHoAYRTSqS",
        "colab_type": "code",
        "outputId": "3f6adeda-d03e-43b1-b413-0b2218fb3589",
        "colab": {
          "base_uri": "https://localhost:8080/",
          "height": 282
        }
      },
      "source": [
        "import scipy.stats as stats\n",
        "\n",
        "d = 1-(-1) # distancia entre los códigos\n",
        "pe = 1 - stats.norm.cdf(d/(2*np.sqrt(noise_variance)))\n",
        "plt.semilogy(snr_dB, pe, 'r',marker='o')\n",
        "plt.semilogy(snr_dB, ber)\n"
      ],
      "execution_count": 4,
      "outputs": [
        {
          "output_type": "execute_result",
          "data": {
            "text/plain": [
              "[<matplotlib.lines.Line2D at 0x7f8c86c5b3c8>]"
            ]
          },
          "metadata": {
            "tags": []
          },
          "execution_count": 4
        },
        {
          "output_type": "display_data",
          "data": {
            "image/png": "[encoded data removed]",
            "text/plain": [
              "<Figure size 432x288 with 1 Axes>"
            ]
          },
          "metadata": {
            "tags": [],
            "needs_background": "light"
          }
        }
      ]
    }
  ]
}